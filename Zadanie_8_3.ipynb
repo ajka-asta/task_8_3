{
 "cells": [
  {
   "cell_type": "markdown",
   "id": "2f144ea8",
   "metadata": {},
   "source": [
    "# Zadanie 8.3. Przestępczość"
   ]
  },
  {
   "cell_type": "markdown",
   "id": "ccde0910",
   "metadata": {},
   "source": [
    "## Import bibliotek i załadowanie danych"
   ]
  },
  {
   "cell_type": "code",
   "execution_count": 2,
   "id": "27de4bbe",
   "metadata": {},
   "outputs": [],
   "source": [
    "import pandas as pd\n",
    "import matplotlib.pyplot as plt"
   ]
  },
  {
   "cell_type": "code",
   "execution_count": 3,
   "id": "cad9cec0",
   "metadata": {},
   "outputs": [],
   "source": [
    "df = pd.read_csv('fatal-police-shootings-data.csv')"
   ]
  },
  {
   "cell_type": "markdown",
   "id": "57d0e465",
   "metadata": {},
   "source": [
    "## Zestawienie liczby ofiar interwencji wg rasy i oznak choroby psychicznej"
   ]
  },
  {
   "cell_type": "code",
   "execution_count": 4,
   "id": "3d95f880",
   "metadata": {},
   "outputs": [
    {
     "name": "stdout",
     "output_type": "stream",
     "text": [
      "\n",
      "Zestawienie według rasy i choroby psychicznej:\n",
      " signs_of_mental_illness  False  True \n",
      "race                                 \n",
      "A                           69     24\n",
      "B                         1114    184\n",
      "H                          745    157\n",
      "N                           64     14\n",
      "O                           37     11\n",
      "W                         1763    713\n"
     ]
    }
   ],
   "source": [
    "race_mental = df.groupby(['race', 'signs_of_mental_illness']).size().unstack(fill_value=0)\n",
    "print(\"\\nZestawienie według rasy i choroby psychicznej:\\n\", race_mental)"
   ]
  },
  {
   "cell_type": "markdown",
   "id": "7fcf2901",
   "metadata": {},
   "source": [
    "## Odsetek ofiar interwencji z oznakami choroby psychicznej dla każdej z ras"
   ]
  },
  {
   "cell_type": "code",
   "execution_count": 5,
   "id": "5f200b95",
   "metadata": {},
   "outputs": [],
   "source": [
    "def calculate_percentage(row):\n",
    "    total = row[True] + row[False]\n",
    "    if total == 0:\n",
    "        return 0\n",
    "    return (row[True] / total) * 100"
   ]
  },
  {
   "cell_type": "code",
   "execution_count": 6,
   "id": "4e0f497e",
   "metadata": {},
   "outputs": [],
   "source": [
    "race_mental['mental_illness_percentage'] = race_mental.apply(calculate_percentage, axis=1).round(2)"
   ]
  },
  {
   "cell_type": "code",
   "execution_count": 7,
   "id": "82e9eadc",
   "metadata": {},
   "outputs": [
    {
     "name": "stdout",
     "output_type": "stream",
     "text": [
      "\n",
      "Zaktualizowana tabela z procentami:\n",
      " signs_of_mental_illness  False  True  mental_illness_percentage\n",
      "race                                                           \n",
      "A                           69    24                      25.81\n",
      "B                         1114   184                      14.18\n",
      "H                          745   157                      17.41\n",
      "N                           64    14                      17.95\n",
      "O                           37    11                      22.92\n",
      "W                         1763   713                      28.80\n"
     ]
    }
   ],
   "source": [
    "print(\"\\nZaktualizowana tabela z procentami:\\n\", race_mental)"
   ]
  },
  {
   "cell_type": "code",
   "execution_count": 8,
   "id": "56e2aefd",
   "metadata": {},
   "outputs": [
    {
     "name": "stdout",
     "output_type": "stream",
     "text": [
      "\n",
      "Rasa z największym odsetkiem chorób psychicznych: W\n"
     ]
    }
   ],
   "source": [
    "max_race = race_mental['mental_illness_percentage'].idxmax()\n",
    "print(f\"\\nRasa z największym odsetkiem chorób psychicznych: {max_race}\")"
   ]
  },
  {
   "cell_type": "markdown",
   "id": "c4136752",
   "metadata": {},
   "source": [
    "## Dodanie dni tygodnia, w których dochodziło do interwencji"
   ]
  },
  {
   "cell_type": "code",
   "execution_count": 9,
   "id": "b1d996a5",
   "metadata": {},
   "outputs": [],
   "source": [
    "df['date'] = pd.to_datetime(df['date'])\n",
    "df['day_of_week'] = df['date'].dt.day_name()"
   ]
  },
  {
   "cell_type": "code",
   "execution_count": 18,
   "id": "06d03b31",
   "metadata": {},
   "outputs": [
    {
     "name": "stdout",
     "output_type": "stream",
     "text": [
      "\n",
      "Fragment tabeli po dodaniu dnia tygodnia:\n",
      "\n",
      "        date day_of_week\n",
      "0 2015-01-02      Friday\n",
      "1 2015-01-02      Friday\n",
      "2 2015-01-03    Saturday\n",
      "3 2015-01-04      Sunday\n",
      "4 2015-01-04      Sunday\n",
      "5 2015-01-04      Sunday\n",
      "6 2015-01-05      Monday\n",
      "7 2015-01-06     Tuesday\n",
      "8 2015-01-06     Tuesday\n",
      "9 2015-01-06     Tuesday\n"
     ]
    }
   ],
   "source": [
    "print(\"\\nFragment tabeli po dodaniu dnia tygodnia:\\n\")\n",
    "print(df[['date', 'day_of_week']].head(10))"
   ]
  },
  {
   "cell_type": "code",
   "execution_count": 10,
   "id": "cc7e1a65",
   "metadata": {},
   "outputs": [],
   "source": [
    "interventions_by_day = df['day_of_week'].value_counts().reindex(\n",
    "    ['Monday', 'Tuesday', 'Wednesday', 'Thursday', 'Friday', 'Saturday', 'Sunday']\n",
    ").fillna(0).astype(int)"
   ]
  },
  {
   "cell_type": "code",
   "execution_count": 11,
   "id": "ede46b91",
   "metadata": {},
   "outputs": [
    {
     "name": "stdout",
     "output_type": "stream",
     "text": [
      "\n",
      "Liczba interwencji według dnia tygodnia:\n",
      "\n",
      "day_of_week\n",
      "Monday       726\n",
      "Tuesday      816\n",
      "Wednesday    829\n",
      "Thursday     810\n",
      "Friday       761\n",
      "Saturday     721\n",
      "Sunday       753\n",
      "Name: count, dtype: int64\n"
     ]
    }
   ],
   "source": [
    "print(\"\\nLiczba interwencji według dnia tygodnia:\\n\")\n",
    "print(interventions_by_day)"
   ]
  },
  {
   "cell_type": "code",
   "execution_count": 12,
   "id": "4e009250",
   "metadata": {},
   "outputs": [
    {
     "data": {
      "image/png": "[encoded data removed]",
      "text/plain": [
       "<Figure size 1000x600 with 1 Axes>"
      ]
     },
     "metadata": {},
     "output_type": "display_data"
    }
   ],
   "source": [
    "plt.figure(figsize=(10,6))\n",
    "interventions_by_day.plot(kind='bar', color='skyblue', edgecolor='black')\n",
    "plt.title('Liczba interwencji według dnia tygodnia')\n",
    "plt.xlabel('Dzień tygodnia')\n",
    "plt.ylabel('Liczba interwencji')\n",
    "plt.xticks(rotation=45)\n",
    "plt.grid(axis='y')\n",
    "plt.show()"
   ]
  },
  {
   "cell_type": "markdown",
   "id": "ff9f86f4",
   "metadata": {},
   "source": [
    "## Wczytanie danych zewnętrznych i połączenie baz ze wskazaniem ilości incydentów w przeliczeniu na 1000 mieszkańców każdego stanu"
   ]
  },
  {
   "cell_type": "code",
   "execution_count": 62,
   "id": "ff15f26f",
   "metadata": {},
   "outputs": [],
   "source": [
    "population_url = \"https://simple.wikipedia.org/wiki/List_of_U.S._states_by_population\"\n",
    "population_tables = pd.read_html(population_url)\n",
    "population_df = population_tables[0]"
   ]
  },
  {
   "cell_type": "code",
   "execution_count": 63,
   "id": "678f0daf",
   "metadata": {},
   "outputs": [],
   "source": [
    "states_url = \"https://en.wikipedia.org/wiki/List_of_U.S._state_and_territory_abbreviations\"\n",
    "states_tables = pd.read_html(states_url)\n",
    "states_df = states_tables[1]"
   ]
  },
  {
   "cell_type": "code",
   "execution_count": 64,
   "id": "49b48823",
   "metadata": {},
   "outputs": [
    {
     "name": "stdout",
     "output_type": "stream",
     "text": [
      "  Rank in states & territories, 2020 Rank in states & territories, 2010  \\\n",
      "0                                  1                                  1   \n",
      "1                                  2                                  2   \n",
      "2                                  3                                  4   \n",
      "3                                  4                                  3   \n",
      "4                                  5                                  6   \n",
      "\n",
      "          State  Census population, April 1, 2020 [1][2]  \\\n",
      "0    California                                 39538223   \n",
      "1         Texas                                 30145505   \n",
      "2       Florida                                 21538187   \n",
      "3      New York                                 20201249   \n",
      "4  Pennsylvania                                 13002700   \n",
      "\n",
      "   Census population, April 1, 2010 [1][2] Percent change, 2010–2020 [note 1]  \\\n",
      "0                                 37253956                               6.1%   \n",
      "1                                 25145561                              15.9%   \n",
      "2                                 18801310                              14.6%   \n",
      "3                                 19378102                               4.2%   \n",
      "4                                 12702379                               2.4%   \n",
      "\n",
      "  Absolute change, 2010-2020  \\\n",
      "0                   +2284267   \n",
      "1                   +3999944   \n",
      "2                   +2736877   \n",
      "3                    +823147   \n",
      "4                    +300321   \n",
      "\n",
      "  Total seats in the U.S. House of Representatives, 2023–2033  \\\n",
      "0                                                 52            \n",
      "1                                                 38            \n",
      "2                                                 28            \n",
      "3                                                 26            \n",
      "4                                                 17            \n",
      "\n",
      "  Census population per electoral vote [note 2]  \\\n",
      "0                                        732189   \n",
      "1                                        728638   \n",
      "2                                        717940   \n",
      "3                                        721473   \n",
      "4                                        684353   \n",
      "\n",
      "  Census population per House seat  \\\n",
      "0                           760350   \n",
      "1                           766987   \n",
      "2                           769221   \n",
      "3                           776971   \n",
      "4                           764865   \n",
      "\n",
      "  Percent of the total U.S. population, 2020 [note 3]  \n",
      "0                                             11.80%   \n",
      "1                                              8.70%   \n",
      "2                                              6.43%   \n",
      "3                                              6.03%   \n",
      "4                                              3.88%   \n"
     ]
    }
   ],
   "source": [
    "print(population_df.head())"
   ]
  },
  {
   "cell_type": "code",
   "execution_count": 65,
   "id": "77339e69",
   "metadata": {},
   "outputs": [
    {
     "name": "stdout",
     "output_type": "stream",
     "text": [
      "                       Name Status of region                ISO  \\\n",
      "                       Name Status of region Unnamed: 2_level_1   \n",
      "0  United States of America    Federal state         US USA 840   \n",
      "1                   Alabama            State              US-AL   \n",
      "2                    Alaska            State              US-AK   \n",
      "3                   Arizona            State              US-AZ   \n",
      "4                  Arkansas            State              US-AR   \n",
      "\n",
      "                ANSI                                  USPS               USCG  \\\n",
      "  Unnamed: 3_level_1 Unnamed: 4_level_1 Unnamed: 5_level_1 Unnamed: 6_level_1   \n",
      "0                 US                0.0                NaN                NaN   \n",
      "1                 AL                1.0                 AL                 AL   \n",
      "2                 AK                2.0                 AK                 AK   \n",
      "3                 AZ                4.0                 AZ                 AZ   \n",
      "4                 AR                5.0                 AR                 AR   \n",
      "\n",
      "      GPO      AP Other abbreviations  \n",
      "      GPO      AP Other abbreviations  \n",
      "0    U.S.    U.S.              U.S.A.  \n",
      "1    Ala.    Ala.                 NaN  \n",
      "2  Alaska  Alaska              Ak.[2]  \n",
      "3   Ariz.   Ariz.                 NaN  \n",
      "4    Ark.    Ark.                 NaN  \n"
     ]
    }
   ],
   "source": [
    "print(states_df.head())"
   ]
  },
  {
   "cell_type": "code",
   "execution_count": 66,
   "id": "0e96deda",
   "metadata": {},
   "outputs": [
    {
     "name": "stdout",
     "output_type": "stream",
     "text": [
      "MultiIndex([(               'Name',                'Name'),\n",
      "            (   'Status of region',    'Status of region'),\n",
      "            (                'ISO',  'Unnamed: 2_level_1'),\n",
      "            (               'ANSI',  'Unnamed: 3_level_1'),\n",
      "            (               'ANSI',  'Unnamed: 4_level_1'),\n",
      "            (               'USPS',  'Unnamed: 5_level_1'),\n",
      "            (               'USCG',  'Unnamed: 6_level_1'),\n",
      "            (                'GPO',                 'GPO'),\n",
      "            (                 'AP',                  'AP'),\n",
      "            ('Other abbreviations', 'Other abbreviations')],\n",
      "           )\n"
     ]
    }
   ],
   "source": [
    "print(states_df.columns)"
   ]
  },
  {
   "cell_type": "code",
   "execution_count": 67,
   "id": "72a7ad0a",
   "metadata": {},
   "outputs": [],
   "source": [
    "population_df = population_df[['State', 'Census population, April 1, 2020 [1][2]']].copy()"
   ]
  },
  {
   "cell_type": "code",
   "execution_count": 68,
   "id": "4e0588ed",
   "metadata": {},
   "outputs": [],
   "source": [
    "population_df.columns = ['state', 'population']"
   ]
  },
  {
   "cell_type": "code",
   "execution_count": 69,
   "id": "f2188f07",
   "metadata": {},
   "outputs": [],
   "source": [
    "population_df['state'] = population_df['state'].str.strip()"
   ]
  },
  {
   "cell_type": "code",
   "execution_count": 70,
   "id": "35fa5315",
   "metadata": {},
   "outputs": [],
   "source": [
    "population_df['population'] = population_df['population'].astype(str).str.replace(',', '').astype(int)"
   ]
  },
  {
   "cell_type": "code",
   "execution_count": 71,
   "id": "8b62b10a",
   "metadata": {},
   "outputs": [],
   "source": [
    "states_df.columns = states_df.columns.get_level_values(0)"
   ]
  },
  {
   "cell_type": "code",
   "execution_count": 72,
   "id": "eca84d7b",
   "metadata": {},
   "outputs": [],
   "source": [
    "states_df = states_df[['Name', 'USPS']].copy()\n",
    "states_df.columns = ['state', 'abbreviation']\n",
    "states_df['state'] = states_df['state'].str.strip()"
   ]
  },
  {
   "cell_type": "code",
   "execution_count": 73,
   "id": "419e5618",
   "metadata": {},
   "outputs": [],
   "source": [
    "incidents_per_state = df['state'].value_counts().reset_index()\n",
    "incidents_per_state.columns = ['abbreviation', 'incidents']"
   ]
  },
  {
   "cell_type": "code",
   "execution_count": 74,
   "id": "8ed2d74c",
   "metadata": {},
   "outputs": [],
   "source": [
    "incidents_full = pd.merge(incidents_per_state, states_df, how='left', on='abbreviation')"
   ]
  },
  {
   "cell_type": "code",
   "execution_count": 75,
   "id": "c54b7ab0",
   "metadata": {},
   "outputs": [],
   "source": [
    "final_df = pd.merge(incidents_full, population_df, how='left', on='state')"
   ]
  },
  {
   "cell_type": "code",
   "execution_count": 76,
   "id": "00cb0f4c",
   "metadata": {},
   "outputs": [],
   "source": [
    "final_df['incidents_per_1000'] = (final_df['incidents'] / final_df['population']) * 1000"
   ]
  },
  {
   "cell_type": "code",
   "execution_count": 77,
   "id": "ac042433",
   "metadata": {},
   "outputs": [
    {
     "name": "stdout",
     "output_type": "stream",
     "text": [
      "                   state abbreviation  incidents  population  \\\n",
      "35                Alaska           AK         39      733391   \n",
      "14            New Mexico           NM        106     2117522   \n",
      "6               Oklahoma           OK        164     3959353   \n",
      "3                Arizona           AZ        254     7151502   \n",
      "4               Colorado           CO        195     5773714   \n",
      "18                Nevada           NV         96     3104614   \n",
      "32         West Virginia           WV         54     1793716   \n",
      "38               Montana           MT         31     1084225   \n",
      "25              Arkansas           AR         83     3011524   \n",
      "44               Wyoming           WY         14      576851   \n",
      "12             Louisiana           LA        109     4657757   \n",
      "10              Missouri           MO        141     6154913   \n",
      "34                 Idaho           ID         42     1839106   \n",
      "29           Mississippi           MS         65     2961279   \n",
      "21              Kentucky           KY         95     4505836   \n",
      "23                Oregon           OR         88     4237256   \n",
      "15               Alabama           AL        104     5024279   \n",
      "39                Hawaii           HI         30     1455271   \n",
      "0             California           CA        799    39538223   \n",
      "11             Tennessee           TN        139     6910840   \n",
      "9             Washington           WA        152     7705281   \n",
      "43          South Dakota           SD         17      886667   \n",
      "47  District of Columbia           DC         13      689545   \n",
      "31                  Utah           UT         60     3271616   \n",
      "24        South Carolina           SC         88     5118425   \n",
      "33                Kansas           KS         50     2937880   \n",
      "5                Georgia           GA        182    10711908   \n",
      "2                Florida           FL        350    21538187   \n",
      "41                 Maine           ME         22     1362359   \n",
      "1                  Texas           TX        481    30145505   \n",
      "22             Wisconsin           WI         91     5893718   \n",
      "7         North Carolina           NC        156    10439388   \n",
      "48          North Dakota           ND         11      779094   \n",
      "19               Indiana           IN         95     6785528   \n",
      "49               Vermont           VT          9      643077   \n",
      "8                   Ohio           OH        155    11799448   \n",
      "46              Delaware           DE         13      989948   \n",
      "26              Maryland           MD         79     6177224   \n",
      "40              Nebraska           NE         24     1961504   \n",
      "20              Virginia           VA         95     8631393   \n",
      "30             Minnesota           MN         61     5706494   \n",
      "37                  Iowa           IA         32     3190369   \n",
      "45         New Hampshire           NH         13     1377529   \n",
      "13          Pennsylvania           PA        108    13002700   \n",
      "16              Illinois           IL        104    12812508   \n",
      "27              Michigan           MI         78    10077331   \n",
      "28            New Jersey           NJ         68     9288994   \n",
      "42           Connecticut           CT         21     3605944   \n",
      "17              New York           NY        101    20201249   \n",
      "36         Massachusetts           MA         35     7029917   \n",
      "50          Rhode Island           RI          4     1097379   \n",
      "\n",
      "    incidents_per_1000  \n",
      "35            0.053178  \n",
      "14            0.050059  \n",
      "6             0.041421  \n",
      "3             0.035517  \n",
      "4             0.033774  \n",
      "18            0.030922  \n",
      "32            0.030105  \n",
      "38            0.028592  \n",
      "25            0.027561  \n",
      "44            0.024270  \n",
      "12            0.023402  \n",
      "10            0.022909  \n",
      "34            0.022837  \n",
      "29            0.021950  \n",
      "21            0.021084  \n",
      "23            0.020768  \n",
      "15            0.020699  \n",
      "39            0.020615  \n",
      "0             0.020208  \n",
      "11            0.020113  \n",
      "9             0.019727  \n",
      "43            0.019173  \n",
      "47            0.018853  \n",
      "31            0.018340  \n",
      "24            0.017193  \n",
      "33            0.017019  \n",
      "5             0.016990  \n",
      "2             0.016250  \n",
      "41            0.016148  \n",
      "1             0.015956  \n",
      "22            0.015440  \n",
      "7             0.014943  \n",
      "48            0.014119  \n",
      "19            0.014000  \n",
      "49            0.013995  \n",
      "8             0.013136  \n",
      "46            0.013132  \n",
      "26            0.012789  \n",
      "40            0.012236  \n",
      "20            0.011006  \n",
      "30            0.010690  \n",
      "37            0.010030  \n",
      "45            0.009437  \n",
      "13            0.008306  \n",
      "16            0.008117  \n",
      "27            0.007740  \n",
      "28            0.007320  \n",
      "42            0.005824  \n",
      "17            0.005000  \n",
      "36            0.004979  \n",
      "50            0.003645  \n"
     ]
    }
   ],
   "source": [
    "print(final_df[['state', 'abbreviation', 'incidents', 'population', 'incidents_per_1000']].sort_values(by='incidents_per_1000', ascending=False))"
   ]
  }
 ],
 "metadata": {
  "kernelspec": {
   "display_name": "Python 3 (ipykernel)",
   "language": "python",
   "name": "python3"
  },
  "language_info": {
   "codemirror_mode": {
    "name": "ipython",
    "version": 3
   },
   "file_extension": ".py",
   "mimetype": "text/x-python",
   "name": "python",
   "nbconvert_exporter": "python",
   "pygments_lexer": "ipython3",
   "version": "3.13.2"
  }
 },
 "nbformat": 4,
 "nbformat_minor": 5
}
